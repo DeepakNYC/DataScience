{
 "cells": [
  {
   "cell_type": "code",
   "execution_count": null,
   "id": "709c9394",
   "metadata": {},
   "outputs": [],
   "source": [
    "Problem statement: The goal is to understand the relationship between house features and how these\n",
    "variables affect the house price.\n",
    "Using more than one model, predict the price of the house using the given dataset. Please compare the\n",
    "accuracy of the models along with the drawbacks of each technique's assumptions before recommending\n",
    "the final prediction model.\n"
   ]
  },
  {
   "cell_type": "markdown",
   "id": "0dace21d",
   "metadata": {},
   "source": [
    "Importing necessary libraries for data analyis and wrangling."
   ]
  },
  {
   "cell_type": "code",
   "execution_count": 8,
   "id": "683a0672",
   "metadata": {},
   "outputs": [],
   "source": [
    "import pandas as pd\n",
    "import numpy as np\n",
    "import seaborn as sns\n",
    "import matplotlib.pyplot as plt\n",
    "%matplotlib inline\n",
    "import warnings\n",
    "warnings.filterwarnings(\"ignore\")"
   ]
  },
  {
   "cell_type": "code",
   "execution_count": 3,
   "id": "8059e9c0",
   "metadata": {},
   "outputs": [
    {
     "data": {
      "text/html": [
       "<div>\n",
       "<style scoped>\n",
       "    .dataframe tbody tr th:only-of-type {\n",
       "        vertical-align: middle;\n",
       "    }\n",
       "\n",
       "    .dataframe tbody tr th {\n",
       "        vertical-align: top;\n",
       "    }\n",
       "\n",
       "    .dataframe thead th {\n",
       "        text-align: right;\n",
       "    }\n",
       "</style>\n",
       "<table border=\"1\" class=\"dataframe\">\n",
       "  <thead>\n",
       "    <tr style=\"text-align: right;\">\n",
       "      <th></th>\n",
       "      <th>Transaction date</th>\n",
       "      <th>House Age</th>\n",
       "      <th>Distance from nearest Metro station (km)</th>\n",
       "      <th>Number of convenience stores</th>\n",
       "      <th>latitude</th>\n",
       "      <th>longitude</th>\n",
       "      <th>Number of bedrooms</th>\n",
       "      <th>House size (sqft)</th>\n",
       "      <th>House price of unit area</th>\n",
       "    </tr>\n",
       "  </thead>\n",
       "  <tbody>\n",
       "    <tr>\n",
       "      <th>0</th>\n",
       "      <td>2012.916667</td>\n",
       "      <td>32.0</td>\n",
       "      <td>84.87882</td>\n",
       "      <td>10</td>\n",
       "      <td>24.98298</td>\n",
       "      <td>121.54024</td>\n",
       "      <td>1</td>\n",
       "      <td>575</td>\n",
       "      <td>37.9</td>\n",
       "    </tr>\n",
       "    <tr>\n",
       "      <th>1</th>\n",
       "      <td>2012.916667</td>\n",
       "      <td>19.5</td>\n",
       "      <td>306.59470</td>\n",
       "      <td>9</td>\n",
       "      <td>24.98034</td>\n",
       "      <td>121.53951</td>\n",
       "      <td>2</td>\n",
       "      <td>1240</td>\n",
       "      <td>42.2</td>\n",
       "    </tr>\n",
       "    <tr>\n",
       "      <th>2</th>\n",
       "      <td>2013.583333</td>\n",
       "      <td>13.3</td>\n",
       "      <td>561.98450</td>\n",
       "      <td>5</td>\n",
       "      <td>24.98746</td>\n",
       "      <td>121.54391</td>\n",
       "      <td>3</td>\n",
       "      <td>1060</td>\n",
       "      <td>47.3</td>\n",
       "    </tr>\n",
       "    <tr>\n",
       "      <th>3</th>\n",
       "      <td>2013.500000</td>\n",
       "      <td>13.3</td>\n",
       "      <td>561.98450</td>\n",
       "      <td>5</td>\n",
       "      <td>24.98746</td>\n",
       "      <td>121.54391</td>\n",
       "      <td>2</td>\n",
       "      <td>875</td>\n",
       "      <td>54.8</td>\n",
       "    </tr>\n",
       "    <tr>\n",
       "      <th>4</th>\n",
       "      <td>2012.833333</td>\n",
       "      <td>5.0</td>\n",
       "      <td>390.56840</td>\n",
       "      <td>5</td>\n",
       "      <td>24.97937</td>\n",
       "      <td>121.54245</td>\n",
       "      <td>1</td>\n",
       "      <td>491</td>\n",
       "      <td>43.1</td>\n",
       "    </tr>\n",
       "    <tr>\n",
       "      <th>...</th>\n",
       "      <td>...</td>\n",
       "      <td>...</td>\n",
       "      <td>...</td>\n",
       "      <td>...</td>\n",
       "      <td>...</td>\n",
       "      <td>...</td>\n",
       "      <td>...</td>\n",
       "      <td>...</td>\n",
       "      <td>...</td>\n",
       "    </tr>\n",
       "    <tr>\n",
       "      <th>409</th>\n",
       "      <td>2013.000000</td>\n",
       "      <td>13.7</td>\n",
       "      <td>4082.01500</td>\n",
       "      <td>0</td>\n",
       "      <td>24.94155</td>\n",
       "      <td>121.50381</td>\n",
       "      <td>3</td>\n",
       "      <td>803</td>\n",
       "      <td>15.4</td>\n",
       "    </tr>\n",
       "    <tr>\n",
       "      <th>410</th>\n",
       "      <td>2012.666667</td>\n",
       "      <td>5.6</td>\n",
       "      <td>90.45606</td>\n",
       "      <td>9</td>\n",
       "      <td>24.97433</td>\n",
       "      <td>121.54310</td>\n",
       "      <td>2</td>\n",
       "      <td>1278</td>\n",
       "      <td>50.0</td>\n",
       "    </tr>\n",
       "    <tr>\n",
       "      <th>411</th>\n",
       "      <td>2013.250000</td>\n",
       "      <td>18.8</td>\n",
       "      <td>390.96960</td>\n",
       "      <td>7</td>\n",
       "      <td>24.97923</td>\n",
       "      <td>121.53986</td>\n",
       "      <td>1</td>\n",
       "      <td>503</td>\n",
       "      <td>40.6</td>\n",
       "    </tr>\n",
       "    <tr>\n",
       "      <th>412</th>\n",
       "      <td>2013.000000</td>\n",
       "      <td>8.1</td>\n",
       "      <td>104.81010</td>\n",
       "      <td>5</td>\n",
       "      <td>24.96674</td>\n",
       "      <td>121.54067</td>\n",
       "      <td>1</td>\n",
       "      <td>597</td>\n",
       "      <td>52.5</td>\n",
       "    </tr>\n",
       "    <tr>\n",
       "      <th>413</th>\n",
       "      <td>2013.500000</td>\n",
       "      <td>6.5</td>\n",
       "      <td>90.45606</td>\n",
       "      <td>9</td>\n",
       "      <td>24.97433</td>\n",
       "      <td>121.54310</td>\n",
       "      <td>2</td>\n",
       "      <td>1097</td>\n",
       "      <td>63.9</td>\n",
       "    </tr>\n",
       "  </tbody>\n",
       "</table>\n",
       "<p>414 rows × 9 columns</p>\n",
       "</div>"
      ],
      "text/plain": [
       "     Transaction date  House Age  Distance from nearest Metro station (km)  \\\n",
       "0         2012.916667       32.0                                  84.87882   \n",
       "1         2012.916667       19.5                                 306.59470   \n",
       "2         2013.583333       13.3                                 561.98450   \n",
       "3         2013.500000       13.3                                 561.98450   \n",
       "4         2012.833333        5.0                                 390.56840   \n",
       "..                ...        ...                                       ...   \n",
       "409       2013.000000       13.7                                4082.01500   \n",
       "410       2012.666667        5.6                                  90.45606   \n",
       "411       2013.250000       18.8                                 390.96960   \n",
       "412       2013.000000        8.1                                 104.81010   \n",
       "413       2013.500000        6.5                                  90.45606   \n",
       "\n",
       "     Number of convenience stores  latitude  longitude  Number of bedrooms  \\\n",
       "0                              10  24.98298  121.54024                   1   \n",
       "1                               9  24.98034  121.53951                   2   \n",
       "2                               5  24.98746  121.54391                   3   \n",
       "3                               5  24.98746  121.54391                   2   \n",
       "4                               5  24.97937  121.54245                   1   \n",
       "..                            ...       ...        ...                 ...   \n",
       "409                             0  24.94155  121.50381                   3   \n",
       "410                             9  24.97433  121.54310                   2   \n",
       "411                             7  24.97923  121.53986                   1   \n",
       "412                             5  24.96674  121.54067                   1   \n",
       "413                             9  24.97433  121.54310                   2   \n",
       "\n",
       "     House size (sqft)  House price of unit area  \n",
       "0                  575                      37.9  \n",
       "1                 1240                      42.2  \n",
       "2                 1060                      47.3  \n",
       "3                  875                      54.8  \n",
       "4                  491                      43.1  \n",
       "..                 ...                       ...  \n",
       "409                803                      15.4  \n",
       "410               1278                      50.0  \n",
       "411                503                      40.6  \n",
       "412                597                      52.5  \n",
       "413               1097                      63.9  \n",
       "\n",
       "[414 rows x 9 columns]"
      ]
     },
     "execution_count": 3,
     "metadata": {},
     "output_type": "execute_result"
    }
   ],
   "source": [
    "df = pd.read_excel(\"DS - Assignment Part 1 data set.xlsx\")\n",
    "df"
   ]
  },
  {
   "cell_type": "code",
   "execution_count": 5,
   "id": "286e7e1b",
   "metadata": {},
   "outputs": [
    {
     "data": {
      "text/plain": [
       "Index(['Transaction date', 'House Age',\n",
       "       'Distance from nearest Metro station (km)',\n",
       "       'Number of convenience stores', 'latitude', 'longitude',\n",
       "       'Number of bedrooms', 'House size (sqft)', 'House price of unit area'],\n",
       "      dtype='object')"
      ]
     },
     "execution_count": 5,
     "metadata": {},
     "output_type": "execute_result"
    }
   ],
   "source": [
    "df.columns"
   ]
  },
  {
   "cell_type": "code",
   "execution_count": 6,
   "id": "0770d53e",
   "metadata": {},
   "outputs": [
    {
     "data": {
      "text/plain": [
       "Transaction date                            0\n",
       "House Age                                   0\n",
       "Distance from nearest Metro station (km)    0\n",
       "Number of convenience stores                0\n",
       "latitude                                    0\n",
       "longitude                                   0\n",
       "Number of bedrooms                          0\n",
       "House size (sqft)                           0\n",
       "House price of unit area                    0\n",
       "dtype: int64"
      ]
     },
     "execution_count": 6,
     "metadata": {},
     "output_type": "execute_result"
    }
   ],
   "source": [
    "df.isnull().sum()"
   ]
  },
  {
   "cell_type": "code",
   "execution_count": 13,
   "id": "2b40e475",
   "metadata": {},
   "outputs": [
    {
     "name": "stdout",
     "output_type": "stream",
     "text": [
      "<class 'pandas.core.frame.DataFrame'>\n",
      "RangeIndex: 414 entries, 0 to 413\n",
      "Data columns (total 9 columns):\n",
      " #   Column                                    Non-Null Count  Dtype  \n",
      "---  ------                                    --------------  -----  \n",
      " 0   Transaction date                          414 non-null    float64\n",
      " 1   House Age                                 414 non-null    float64\n",
      " 2   Distance from nearest Metro station (km)  414 non-null    float64\n",
      " 3   Number of convenience stores              414 non-null    int64  \n",
      " 4   latitude                                  414 non-null    float64\n",
      " 5   longitude                                 414 non-null    float64\n",
      " 6   Number of bedrooms                        414 non-null    int64  \n",
      " 7   House size (sqft)                         414 non-null    int64  \n",
      " 8   House price of unit area                  414 non-null    float64\n",
      "dtypes: float64(6), int64(3)\n",
      "memory usage: 29.2 KB\n"
     ]
    }
   ],
   "source": [
    "df.info()"
   ]
  },
  {
   "cell_type": "code",
   "execution_count": 7,
   "id": "06682584",
   "metadata": {},
   "outputs": [
    {
     "data": {
      "text/html": [
       "<div>\n",
       "<style scoped>\n",
       "    .dataframe tbody tr th:only-of-type {\n",
       "        vertical-align: middle;\n",
       "    }\n",
       "\n",
       "    .dataframe tbody tr th {\n",
       "        vertical-align: top;\n",
       "    }\n",
       "\n",
       "    .dataframe thead th {\n",
       "        text-align: right;\n",
       "    }\n",
       "</style>\n",
       "<table border=\"1\" class=\"dataframe\">\n",
       "  <thead>\n",
       "    <tr style=\"text-align: right;\">\n",
       "      <th></th>\n",
       "      <th>Transaction date</th>\n",
       "      <th>House Age</th>\n",
       "      <th>Distance from nearest Metro station (km)</th>\n",
       "      <th>Number of convenience stores</th>\n",
       "      <th>latitude</th>\n",
       "      <th>longitude</th>\n",
       "      <th>Number of bedrooms</th>\n",
       "      <th>House size (sqft)</th>\n",
       "      <th>House price of unit area</th>\n",
       "    </tr>\n",
       "  </thead>\n",
       "  <tbody>\n",
       "    <tr>\n",
       "      <th>count</th>\n",
       "      <td>414.000000</td>\n",
       "      <td>414.000000</td>\n",
       "      <td>414.000000</td>\n",
       "      <td>414.000000</td>\n",
       "      <td>414.000000</td>\n",
       "      <td>414.000000</td>\n",
       "      <td>414.000000</td>\n",
       "      <td>414.000000</td>\n",
       "      <td>414.000000</td>\n",
       "    </tr>\n",
       "    <tr>\n",
       "      <th>mean</th>\n",
       "      <td>2013.148953</td>\n",
       "      <td>17.712560</td>\n",
       "      <td>1083.885689</td>\n",
       "      <td>4.094203</td>\n",
       "      <td>24.969030</td>\n",
       "      <td>121.533361</td>\n",
       "      <td>1.987923</td>\n",
       "      <td>931.475845</td>\n",
       "      <td>37.980193</td>\n",
       "    </tr>\n",
       "    <tr>\n",
       "      <th>std</th>\n",
       "      <td>0.281995</td>\n",
       "      <td>11.392485</td>\n",
       "      <td>1262.109595</td>\n",
       "      <td>2.945562</td>\n",
       "      <td>0.012410</td>\n",
       "      <td>0.015347</td>\n",
       "      <td>0.818875</td>\n",
       "      <td>348.910269</td>\n",
       "      <td>13.606488</td>\n",
       "    </tr>\n",
       "    <tr>\n",
       "      <th>min</th>\n",
       "      <td>2012.666667</td>\n",
       "      <td>0.000000</td>\n",
       "      <td>23.382840</td>\n",
       "      <td>0.000000</td>\n",
       "      <td>24.932070</td>\n",
       "      <td>121.473530</td>\n",
       "      <td>1.000000</td>\n",
       "      <td>402.000000</td>\n",
       "      <td>7.600000</td>\n",
       "    </tr>\n",
       "    <tr>\n",
       "      <th>25%</th>\n",
       "      <td>2012.916667</td>\n",
       "      <td>9.025000</td>\n",
       "      <td>289.324800</td>\n",
       "      <td>1.000000</td>\n",
       "      <td>24.963000</td>\n",
       "      <td>121.528085</td>\n",
       "      <td>1.000000</td>\n",
       "      <td>548.000000</td>\n",
       "      <td>27.700000</td>\n",
       "    </tr>\n",
       "    <tr>\n",
       "      <th>50%</th>\n",
       "      <td>2013.166667</td>\n",
       "      <td>16.100000</td>\n",
       "      <td>492.231300</td>\n",
       "      <td>4.000000</td>\n",
       "      <td>24.971100</td>\n",
       "      <td>121.538630</td>\n",
       "      <td>2.000000</td>\n",
       "      <td>975.000000</td>\n",
       "      <td>38.450000</td>\n",
       "    </tr>\n",
       "    <tr>\n",
       "      <th>75%</th>\n",
       "      <td>2013.416667</td>\n",
       "      <td>28.150000</td>\n",
       "      <td>1454.279000</td>\n",
       "      <td>6.000000</td>\n",
       "      <td>24.977455</td>\n",
       "      <td>121.543305</td>\n",
       "      <td>3.000000</td>\n",
       "      <td>1234.750000</td>\n",
       "      <td>46.600000</td>\n",
       "    </tr>\n",
       "    <tr>\n",
       "      <th>max</th>\n",
       "      <td>2013.583333</td>\n",
       "      <td>43.800000</td>\n",
       "      <td>6488.021000</td>\n",
       "      <td>10.000000</td>\n",
       "      <td>25.014590</td>\n",
       "      <td>121.566270</td>\n",
       "      <td>3.000000</td>\n",
       "      <td>1500.000000</td>\n",
       "      <td>117.500000</td>\n",
       "    </tr>\n",
       "  </tbody>\n",
       "</table>\n",
       "</div>"
      ],
      "text/plain": [
       "       Transaction date   House Age  Distance from nearest Metro station (km)  \\\n",
       "count        414.000000  414.000000                                414.000000   \n",
       "mean        2013.148953   17.712560                               1083.885689   \n",
       "std            0.281995   11.392485                               1262.109595   \n",
       "min         2012.666667    0.000000                                 23.382840   \n",
       "25%         2012.916667    9.025000                                289.324800   \n",
       "50%         2013.166667   16.100000                                492.231300   \n",
       "75%         2013.416667   28.150000                               1454.279000   \n",
       "max         2013.583333   43.800000                               6488.021000   \n",
       "\n",
       "       Number of convenience stores    latitude   longitude  \\\n",
       "count                    414.000000  414.000000  414.000000   \n",
       "mean                       4.094203   24.969030  121.533361   \n",
       "std                        2.945562    0.012410    0.015347   \n",
       "min                        0.000000   24.932070  121.473530   \n",
       "25%                        1.000000   24.963000  121.528085   \n",
       "50%                        4.000000   24.971100  121.538630   \n",
       "75%                        6.000000   24.977455  121.543305   \n",
       "max                       10.000000   25.014590  121.566270   \n",
       "\n",
       "       Number of bedrooms  House size (sqft)  House price of unit area  \n",
       "count          414.000000         414.000000                414.000000  \n",
       "mean             1.987923         931.475845                 37.980193  \n",
       "std              0.818875         348.910269                 13.606488  \n",
       "min              1.000000         402.000000                  7.600000  \n",
       "25%              1.000000         548.000000                 27.700000  \n",
       "50%              2.000000         975.000000                 38.450000  \n",
       "75%              3.000000        1234.750000                 46.600000  \n",
       "max              3.000000        1500.000000                117.500000  "
      ]
     },
     "execution_count": 7,
     "metadata": {},
     "output_type": "execute_result"
    }
   ],
   "source": [
    "df.describe()"
   ]
  },
  {
   "cell_type": "code",
   "execution_count": 24,
   "id": "d6fde4d7",
   "metadata": {},
   "outputs": [
    {
     "data": {
      "image/png": "[encoded data removed]",
      "text/plain": [
       "<Figure size 400x200 with 2 Axes>"
      ]
     },
     "metadata": {},
     "output_type": "display_data"
    }
   ],
   "source": [
    "plt.figure(figsize=(4,2))\n",
    "sns.heatmap(df.corr(), cmap=\"RdBu\")\n",
    "plt.title(\"Correlations difference Between Variables\", size=15)\n",
    "plt.show()"
   ]
  },
  {
   "cell_type": "markdown",
   "id": "f03014e5",
   "metadata": {},
   "source": [
    "Splitting training and testing datasets"
   ]
  },
  {
   "cell_type": "code",
   "execution_count": 25,
   "id": "8a364ac1",
   "metadata": {},
   "outputs": [],
   "source": [
    "X = df.drop(\"House price of unit area\", axis=1)\n",
    "y = df[\"House price of unit area\"]"
   ]
  },
  {
   "cell_type": "code",
   "execution_count": 45,
   "id": "c83f69a2",
   "metadata": {},
   "outputs": [],
   "source": [
    "X_train, X_test, y_train, y_test = train_test_split(X, y, test_size=0.2, random_state=42) #Ourdata set is small that's why i used 20% data for model testing and 80% for training"
   ]
  },
  {
   "cell_type": "code",
   "execution_count": 27,
   "id": "8007ee4b",
   "metadata": {},
   "outputs": [],
   "source": [
    "def rmse_cv(model):\n",
    "    rmse = np.sqrt(-cross_val_score(model, X, y, scoring=\"neg_mean_squared_error\", cv=5)).mean()\n",
    "    return rmse\n",
    "    \n",
    "\n",
    "def evaluation(y, predictions):\n",
    "    mae = mean_absolute_error(y, predictions)\n",
    "    mse = mean_squared_error(y, predictions)\n",
    "    rmse = np.sqrt(mean_squared_error(y, predictions))\n",
    "    r_squared = r2_score(y, predictions)\n",
    "    return mae, mse, rmse, r_squared"
   ]
  },
  {
   "cell_type": "markdown",
   "id": "feff5efa",
   "metadata": {},
   "source": [
    "# Various Machine Learning Models"
   ]
  },
  {
   "cell_type": "code",
   "execution_count": 43,
   "id": "06caf51e",
   "metadata": {},
   "outputs": [],
   "source": [
    "# Importing necessary libraries\n",
    "from sklearn.model_selection import train_test_split, cross_val_score\n",
    "from sklearn.metrics import r2_score, mean_absolute_error, mean_squared_error\n",
    "\n",
    "from sklearn.linear_model import LinearRegression\n",
    "from sklearn.linear_model import Ridge\n",
    "from sklearn.ensemble import RandomForestRegressor\n",
    "from sklearn.svm import SVR"
   ]
  },
  {
   "cell_type": "code",
   "execution_count": 28,
   "id": "b14acb69",
   "metadata": {},
   "outputs": [],
   "source": [
    "models = pd.DataFrame(columns=[\"Model\",\"MAE\",\"MSE\",\"RMSE\",\"R2 Score\",\"RMSE (Cross-Validation)\"])"
   ]
  },
  {
   "cell_type": "markdown",
   "id": "6d66cf36",
   "metadata": {},
   "source": [
    "Linear Regression"
   ]
  },
  {
   "cell_type": "code",
   "execution_count": 29,
   "id": "bd6ec968",
   "metadata": {},
   "outputs": [
    {
     "name": "stdout",
     "output_type": "stream",
     "text": [
      "MAE: 5.374236530635265\n",
      "MSE: 55.564142232549784\n",
      "RMSE: 7.4541359145476935\n",
      "R2 Score: 0.6687873935940405\n",
      "------------------------------\n",
      "RMSE Cross-Validation: 8.780327303838101\n"
     ]
    }
   ],
   "source": [
    "lin_reg = LinearRegression()\n",
    "lin_reg.fit(X_train, y_train)\n",
    "predictions = lin_reg.predict(X_test)\n",
    "\n",
    "mae, mse, rmse, r_squared = evaluation(y_test, predictions)\n",
    "print(\"MAE:\", mae)\n",
    "print(\"MSE:\", mse)\n",
    "print(\"RMSE:\", rmse)\n",
    "print(\"R2 Score:\", r_squared)\n",
    "print(\"-\"*30)\n",
    "rmse_cross_val = rmse_cv(lin_reg)\n",
    "print(\"RMSE Cross-Validation:\", rmse_cross_val)\n",
    "\n",
    "new_row = {\"Model\": \"LinearRegression\",\"MAE\": mae, \"MSE\": mse, \"RMSE\": rmse, \"R2 Score\": r_squared, \"RMSE (Cross-Validation)\": rmse_cross_val}\n",
    "models = models.append(new_row, ignore_index=True)"
   ]
  },
  {
   "cell_type": "markdown",
   "id": "68373cea",
   "metadata": {},
   "source": [
    "Ridge Regression"
   ]
  },
  {
   "cell_type": "code",
   "execution_count": 31,
   "id": "142dd45d",
   "metadata": {},
   "outputs": [
    {
     "name": "stdout",
     "output_type": "stream",
     "text": [
      "MAE: 5.576249106020308\n",
      "MSE: 58.28804505382978\n",
      "RMSE: 7.634660768746033\n",
      "R2 Score: 0.652550466021996\n",
      "------------------------------\n",
      "RMSE Cross-Validation: 9.040760605210114\n"
     ]
    }
   ],
   "source": [
    "ridge = Ridge()\n",
    "ridge.fit(X_train, y_train)\n",
    "predictions = ridge.predict(X_test)\n",
    "mae, mse, rmse, r_squared = evaluation(y_test, predictions)\n",
    "print(\"MAE:\", mae)\n",
    "print(\"MSE:\", mse)\n",
    "print(\"RMSE:\", rmse)\n",
    "print(\"R2 Score:\", r_squared)\n",
    "print(\"-\"*30)\n",
    "rmse_cross_val = rmse_cv(ridge)\n",
    "print(\"RMSE Cross-Validation:\", rmse_cross_val)\n",
    "\n",
    "new_row = {\"Model\": \"Ridge\",\"MAE\": mae, \"MSE\": mse, \"RMSE\": rmse, \"R2 Score\": r_squared, \"RMSE (Cross-Validation)\": rmse_cross_val}\n",
    "models = models.append(new_row, ignore_index=True)"
   ]
  },
  {
   "cell_type": "markdown",
   "id": "ec5d29ec",
   "metadata": {},
   "source": [
    "Support Vector Machines\n"
   ]
  },
  {
   "cell_type": "code",
   "execution_count": 32,
   "id": "1433ca2b",
   "metadata": {},
   "outputs": [
    {
     "name": "stdout",
     "output_type": "stream",
     "text": [
      "MAE: 5.715699463632964\n",
      "MSE: 91.81553419557214\n",
      "RMSE: 9.582042276862076\n",
      "R2 Score: 0.4526962683560274\n",
      "------------------------------\n",
      "RMSE Cross-Validation: 8.595917509629881\n"
     ]
    }
   ],
   "source": [
    "svr = SVR(C=100000)\n",
    "svr.fit(X_train, y_train)\n",
    "predictions = svr.predict(X_test)\n",
    "\n",
    "mae, mse, rmse, r_squared = evaluation(y_test, predictions)\n",
    "print(\"MAE:\", mae)\n",
    "print(\"MSE:\", mse)\n",
    "print(\"RMSE:\", rmse)\n",
    "print(\"R2 Score:\", r_squared)\n",
    "print(\"-\"*30)\n",
    "rmse_cross_val = rmse_cv(svr)\n",
    "print(\"RMSE Cross-Validation:\", rmse_cross_val)\n",
    "\n",
    "new_row = {\"Model\": \"SVR\",\"MAE\": mae, \"MSE\": mse, \"RMSE\": rmse, \"R2 Score\": r_squared, \"RMSE (Cross-Validation)\": rmse_cross_val}\n",
    "models = models.append(new_row, ignore_index=True)"
   ]
  },
  {
   "cell_type": "markdown",
   "id": "a65458e8",
   "metadata": {},
   "source": [
    "Random Forest Regressor"
   ]
  },
  {
   "cell_type": "code",
   "execution_count": 33,
   "id": "7930a044",
   "metadata": {},
   "outputs": [
    {
     "name": "stdout",
     "output_type": "stream",
     "text": [
      "MAE: 3.8796506024096367\n",
      "MSE: 33.01260981927708\n",
      "RMSE: 5.745660085601748\n",
      "R2 Score: 0.8032149493689039\n",
      "------------------------------\n",
      "RMSE Cross-Validation: 7.483268087222159\n"
     ]
    }
   ],
   "source": [
    "random_forest = RandomForestRegressor(n_estimators=100)\n",
    "random_forest.fit(X_train, y_train)\n",
    "predictions = random_forest.predict(X_test)\n",
    "\n",
    "mae, mse, rmse, r_squared = evaluation(y_test, predictions)\n",
    "print(\"MAE:\", mae)\n",
    "print(\"MSE:\", mse)\n",
    "print(\"RMSE:\", rmse)\n",
    "print(\"R2 Score:\", r_squared)\n",
    "print(\"-\"*30)\n",
    "rmse_cross_val = rmse_cv(random_forest)\n",
    "print(\"RMSE Cross-Validation:\", rmse_cross_val)\n",
    "\n",
    "new_row = {\"Model\": \"RandomForestRegressor\",\"MAE\": mae, \"MSE\": mse, \"RMSE\": rmse, \"R2 Score\": r_squared, \"RMSE (Cross-Validation)\": rmse_cross_val}\n",
    "models = models.append(new_row, ignore_index=True)"
   ]
  },
  {
   "cell_type": "markdown",
   "id": "c4e9c12f",
   "metadata": {},
   "source": [
    "# Model Comparison"
   ]
  },
  {
   "cell_type": "markdown",
   "id": "ba49581e",
   "metadata": {},
   "source": [
    "The less the Root Mean Squared Error (RMSE), The better the model is."
   ]
  },
  {
   "cell_type": "code",
   "execution_count": 44,
   "id": "04a06137",
   "metadata": {},
   "outputs": [
    {
     "data": {
      "text/html": [
       "<div>\n",
       "<style scoped>\n",
       "    .dataframe tbody tr th:only-of-type {\n",
       "        vertical-align: middle;\n",
       "    }\n",
       "\n",
       "    .dataframe tbody tr th {\n",
       "        vertical-align: top;\n",
       "    }\n",
       "\n",
       "    .dataframe thead th {\n",
       "        text-align: right;\n",
       "    }\n",
       "</style>\n",
       "<table border=\"1\" class=\"dataframe\">\n",
       "  <thead>\n",
       "    <tr style=\"text-align: right;\">\n",
       "      <th></th>\n",
       "      <th>4</th>\n",
       "      <th>3</th>\n",
       "      <th>0</th>\n",
       "      <th>1</th>\n",
       "      <th>2</th>\n",
       "    </tr>\n",
       "  </thead>\n",
       "  <tbody>\n",
       "    <tr>\n",
       "      <th>Model</th>\n",
       "      <td>RandomForestRegressor</td>\n",
       "      <td>SVR</td>\n",
       "      <td>LinearRegression</td>\n",
       "      <td>Ridge</td>\n",
       "      <td>Ridge</td>\n",
       "    </tr>\n",
       "    <tr>\n",
       "      <th>MAE</th>\n",
       "      <td>3.879651</td>\n",
       "      <td>5.715699</td>\n",
       "      <td>5.374237</td>\n",
       "      <td>5.576249</td>\n",
       "      <td>5.576249</td>\n",
       "    </tr>\n",
       "    <tr>\n",
       "      <th>MSE</th>\n",
       "      <td>33.01261</td>\n",
       "      <td>91.815534</td>\n",
       "      <td>55.564142</td>\n",
       "      <td>58.288045</td>\n",
       "      <td>58.288045</td>\n",
       "    </tr>\n",
       "    <tr>\n",
       "      <th>RMSE</th>\n",
       "      <td>5.74566</td>\n",
       "      <td>9.582042</td>\n",
       "      <td>7.454136</td>\n",
       "      <td>7.634661</td>\n",
       "      <td>7.634661</td>\n",
       "    </tr>\n",
       "    <tr>\n",
       "      <th>R2 Score</th>\n",
       "      <td>0.803215</td>\n",
       "      <td>0.452696</td>\n",
       "      <td>0.668787</td>\n",
       "      <td>0.65255</td>\n",
       "      <td>0.65255</td>\n",
       "    </tr>\n",
       "    <tr>\n",
       "      <th>RMSE (Cross-Validation)</th>\n",
       "      <td>7.483268</td>\n",
       "      <td>8.595918</td>\n",
       "      <td>8.780327</td>\n",
       "      <td>9.040761</td>\n",
       "      <td>9.040761</td>\n",
       "    </tr>\n",
       "  </tbody>\n",
       "</table>\n",
       "</div>"
      ],
      "text/plain": [
       "                                             4          3                 0  \\\n",
       "Model                    RandomForestRegressor        SVR  LinearRegression   \n",
       "MAE                                   3.879651   5.715699          5.374237   \n",
       "MSE                                   33.01261  91.815534         55.564142   \n",
       "RMSE                                   5.74566   9.582042          7.454136   \n",
       "R2 Score                              0.803215   0.452696          0.668787   \n",
       "RMSE (Cross-Validation)               7.483268   8.595918          8.780327   \n",
       "\n",
       "                                 1          2  \n",
       "Model                        Ridge      Ridge  \n",
       "MAE                       5.576249   5.576249  \n",
       "MSE                      58.288045  58.288045  \n",
       "RMSE                      7.634661   7.634661  \n",
       "R2 Score                   0.65255    0.65255  \n",
       "RMSE (Cross-Validation)   9.040761   9.040761  "
      ]
     },
     "execution_count": 44,
     "metadata": {},
     "output_type": "execute_result"
    }
   ],
   "source": [
    "models.sort_values(by=\"RMSE (Cross-Validation)\").T"
   ]
  },
  {
   "cell_type": "code",
   "execution_count": 38,
   "id": "9e7d3ede",
   "metadata": {},
   "outputs": [
    {
     "data": {
      "image/png": "[encoded data removed]",
      "text/plain": [
       "<Figure size 400x200 with 1 Axes>"
      ]
     },
     "metadata": {},
     "output_type": "display_data"
    }
   ],
   "source": [
    "plt.figure(figsize=(4,2))\n",
    "sns.barplot(x=models[\"Model\"], y=models[\"RMSE (Cross-Validation)\"])\n",
    "plt.title(\"Models' RMSE Scores (Cross-Validated)\", size=18)\n",
    "plt.xticks(rotation=30, size=8)\n",
    "plt.show()"
   ]
  },
  {
   "cell_type": "markdown",
   "id": "b8e895ef",
   "metadata": {},
   "source": [
    "In This case RandomforestRegressior performed well with less RMSE."
   ]
  },
  {
   "cell_type": "markdown",
   "id": "9d39af8b",
   "metadata": {},
   "source": [
    "# Pros and Cons of models"
   ]
  },
  {
   "cell_type": "markdown",
   "id": "e140381f",
   "metadata": {},
   "source": [
    "Pros"
   ]
  },
  {
   "cell_type": "code",
   "execution_count": null,
   "id": "054498db",
   "metadata": {},
   "outputs": [],
   "source": [
    "# SVR do perform well because  Outliers have less impact and is suited for extreme case binary classification.\n",
    "# SVR performs well in higher dimensional datasets."
   ]
  },
  {
   "cell_type": "code",
   "execution_count": 11,
   "id": "13463a7b",
   "metadata": {},
   "outputs": [],
   "source": [
    "# Random forest is an ensemble of decision trees. \n",
    "# For predicting the outcome of a particular row.\n",
    "# Random forest takes inputs from all the trees and then predicts the outcome : It can also handle errors in imbalanced data.\n",
    "# No overfitting issues.\n",
    "# Overliers has less effect on output of model."
   ]
  },
  {
   "cell_type": "code",
   "execution_count": null,
   "id": "1b7046be",
   "metadata": {},
   "outputs": [],
   "source": [
    "# Linear Regression performs well when the dataset is linearly separable.\n",
    "# Linear Regression is prone to over-fitting but it can be easily avoided using some dimensionality reduction techniques, regularization.\n"
   ]
  },
  {
   "cell_type": "code",
   "execution_count": null,
   "id": "48ffcd15",
   "metadata": {},
   "outputs": [],
   "source": [
    "# Ridge regression known as one of the regularization methods because it attempt to minimize the sum of squared residuals.\n",
    "# When many predictor variables are significant in the model and their coefficients are roughly equal then ridge regression tends to perform better because it keeps all of the predictors in the model."
   ]
  },
  {
   "cell_type": "code",
   "execution_count": null,
   "id": "ee2eca3f",
   "metadata": {},
   "outputs": [],
   "source": []
  },
  {
   "cell_type": "markdown",
   "id": "7ad230bd",
   "metadata": {},
   "source": [
    "Cons"
   ]
  },
  {
   "cell_type": "code",
   "execution_count": null,
   "id": "bba0ca37",
   "metadata": {},
   "outputs": [],
   "source": [
    "#SVR \n",
    "#1. Slow for larger dataset\n",
    "#2. Performance issues in case of overlapped cases.\n",
    "#3. Selecting hyperparameters in a big task."
   ]
  },
  {
   "cell_type": "code",
   "execution_count": null,
   "id": "f550eb16",
   "metadata": {},
   "outputs": [],
   "source": [
    "#Random forest\n",
    "#1. Predictions of the trees need to be uncorrelate\n",
    "#2. We don't know much about what is happening in background by using this method."
   ]
  },
  {
   "cell_type": "code",
   "execution_count": null,
   "id": "9a6123db",
   "metadata": {},
   "outputs": [],
   "source": [
    "#Linear regression\n",
    "#1. Prone to overfitting\n",
    "#2. Prone to noise and overfitting\n",
    "#3. Multicollinearity should be removed before applying linear regression using Ridge & Lasso Regression."
   ]
  },
  {
   "cell_type": "code",
   "execution_count": 46,
   "id": "63315360",
   "metadata": {},
   "outputs": [],
   "source": [
    "#Ridge regression\n",
    "#1.Inclusion of all predictors in the model\n",
    "#2.Unable to perform feature selection"
   ]
  },
  {
   "cell_type": "code",
   "execution_count": null,
   "id": "0f0e328c",
   "metadata": {},
   "outputs": [],
   "source": []
  }
 ],
 "metadata": {
  "kernelspec": {
   "display_name": "Python 3 (ipykernel)",
   "language": "python",
   "name": "python3"
  },
  "language_info": {
   "codemirror_mode": {
    "name": "ipython",
    "version": 3
   },
   "file_extension": ".py",
   "mimetype": "text/x-python",
   "name": "python",
   "nbconvert_exporter": "python",
   "pygments_lexer": "ipython3",
   "version": "3.9.13"
  }
 },
 "nbformat": 4,
 "nbformat_minor": 5
}
